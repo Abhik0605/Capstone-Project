{
 "cells": [
  {
   "cell_type": "markdown",
   "metadata": {},
   "source": [
    "# Data Science Capstone Project\n",
    "\n",
    "\n",
    "## Purpose\n",
    "The purpose of this project is to explore the venues of Toronto and Waterloo and understand the differences between a big city and a smaller city.\n",
    "\n",
    "## Background\n",
    "Predicting where to open a business is a very hard problem. The number of variables that go into solving this kind of problem is a lot. It is almost impossible to predict whether a certain kind of business might succeed in one neighbourhood vs the other, one city vs the other, Evironment, culture, people, religion, time, location, asthetic appeal they all intermingle with each other to predict whether a certain place might be a good place for a business. Also what kind of business also makes a big difference. I am no expert and neither do I claim to be I just experiment and analyze and predict. So I just go into this problem blindly and see what comes out of the end. In this project I look into one variable which is the venue data on othere people's busineses and I cluster them and see which cluster is good for which kind of business.\n",
    "\n",
    "\n",
    "## Methodology\n",
    "I. Data acquisiton and cleaning\n",
    "\n",
    "II. Data Mining and Cleaning\n",
    "\n",
    "III. Exploratory Data Analysis\n",
    "\n",
    "IV. Predictive Modeling\n",
    "\n",
    "V. Conclusions\n",
    "\n",
    "## WIP - improvements\n",
    "\n",
    "Notable TODOs:\n",
    "- todo 1: Deciding what kind of data I need and get relavant data.\n",
    "- todo 2: If correlation and conclusions can be drawn.\n",
    "- todo 3: Tasty visualizations.\n",
    "- Choropleth maps of neighbourhoods comparing number of venues.\n",
    "\n"
   ]
  },
  {
   "cell_type": "markdown",
   "metadata": {},
   "source": [
    "# Setup\n",
    "\n",
    "## Library import\n",
    "We import all the required Python libraries"
   ]
  },
  {
   "cell_type": "code",
   "execution_count": null,
   "metadata": {},
   "outputs": [],
   "source": [
    "# Imported all the neccesary libraries \n",
    "from bs4 import BeautifulSoup # For Web Scraping\n",
    "\n",
    "import csv\n",
    "import pandas as pd #Data Analysis\n",
    "pd.set_option('display.max_columns', None) \n",
    "pd.set_option('display.max_rows', None)\n",
    "import numpy as np\n",
    "\n",
    "import geocoder #get location data\n",
    "from geopy.geocoders import Nominatim # convert an address into latitude and longitude values\n",
    "\n",
    "import requests\n",
    "import json #To handle json files\n",
    "from pandas.io.json import json_normalize\n",
    "\n",
    "from sklearn.cluster import KMeans # To run k-means algorithm\n",
    "\n",
    "import matplotlib.cm as cm\n",
    "import matplotlib.colors as colors # matplotlib stuff\n",
    "import matplotlib.pyplot as plt\n",
    "#%matplotlib inline # backend for rendering plots wit\n",
    "\n",
    "import folium # To visualize on map\n",
    "from folium.map import *\n",
    "from folium import plugins\n",
    "from folium.plugins import MeasureControl\n",
    "from folium.plugins import FloatImage\n",
    "\n",
    "import json\n",
    "\n",
    "print('Libraries Imported')"
   ]
  },
  {
   "cell_type": "markdown",
   "metadata": {},
   "source": [
    "\n",
    "# Data import\n",
    "We retrieve all the required data for the analysis. I use the arcgis API to get the required Waterloo-Kitchener Neighbourhood Data. I am aware that these Neighbourhoods might not be accurate in their location but these are just rough placeholder names to segment the area."
   ]
  },
  {
   "cell_type": "code",
   "execution_count": null,
   "metadata": {
    "scrolled": true
   },
   "outputs": [],
   "source": [
    "url = 'https://services.arcgis.com/ZpeBVw5o1kjit7LT/arcgis/rest/services/NeighbourhoodAssociations/FeatureServer/0/query?where=1%3D1&outFields=*&outSR=4326&f=json'\n",
    "data = requests.get(url).json()  \n"
   ]
  },
  {
   "cell_type": "code",
   "execution_count": null,
   "metadata": {},
   "outputs": [],
   "source": [
    "with open('data.geojson', 'w') as json_file:\n",
    "    json.dump(data, json_file)"
   ]
  },
  {
   "cell_type": "code",
   "execution_count": null,
   "metadata": {},
   "outputs": [],
   "source": [
    "address = 'Waterloo, Ontario, Canada'\n",
    "\n",
    "geolocator = Nominatim(user_agent=\"waterloo_explorer\")\n",
    "location = geolocator.geocode(address)\n",
    "latitude = location.latitude\n",
    "longitude = location.longitude\n",
    "print('The geograpical coordinate of Waterloo City are {}, {}.'.format(latitude, longitude))"
   ]
  },
  {
   "cell_type": "code",
   "execution_count": null,
   "metadata": {},
   "outputs": [],
   "source": [
    "element = []\n",
    "\n",
    "for item in data['features']:\n",
    "    i = round(len(item['geometry']['rings'][0])/2)+round(len(item['geometry']['rings'][0])/3)\n",
    "    element.append([item['attributes']['NAME'],item['attributes']['TYPE'],item['geometry']['rings'][0][i][1],item['geometry']['rings'][0][i][0]])\n",
    "    \n",
    "element[:5]"
   ]
  },
  {
   "cell_type": "code",
   "execution_count": null,
   "metadata": {},
   "outputs": [],
   "source": [
    "df = pd.DataFrame(element,columns = ['Neighbourhood', 'Neighbourhood Type','lat','long'])"
   ]
  },
  {
   "cell_type": "code",
   "execution_count": null,
   "metadata": {
    "scrolled": true
   },
   "outputs": [],
   "source": [
    "df.shape"
   ]
  },
  {
   "cell_type": "code",
   "execution_count": null,
   "metadata": {},
   "outputs": [],
   "source": [
    "# # Displaying toronto areas by postal Code\n",
    "# for lat,lng,neighbourhood in zip(df['lat'],df['long'],df['Neighbourhood Type']):\n",
    "#     label = f'{neighbourhood}'\n",
    "#     label = folium.Popup(label, parse_html=True)\n",
    "#     folium.CircleMarker(\n",
    "#         [lat,lng],\n",
    "#         radius = 5,\n",
    "#         popup=label,\n",
    "#         color = 'green',\n",
    "#         fill = True,\n",
    "#         parse_html=False, \n",
    "#     ).add_to(waterloo_map)\n",
    "    \n",
    "# # waterloo_map.add_child(MeasureControl())\n",
    "# FloatImage(url, bottom=5, left=85).add_to(waterloo_map)\n",
    "# waterloo_map.add_child(MeasureControl())\n",
    "# waterloo_map.save('index.html')\n",
    "\n",
    "# waterloo_map"
   ]
  },
  {
   "cell_type": "markdown",
   "metadata": {},
   "source": [
    "Getting Kitchener Data"
   ]
  },
  {
   "cell_type": "code",
   "execution_count": null,
   "metadata": {},
   "outputs": [],
   "source": [
    "url = 'https://services1.arcgis.com/qAo1OsXi67t7XgmS/arcgis/rest/services/Neighbourhood_Association/FeatureServer/0/query?where=1%3D1&outFields=*&outSR=4326&f=json'"
   ]
  },
  {
   "cell_type": "code",
   "execution_count": null,
   "metadata": {},
   "outputs": [],
   "source": [
    "data2 = requests.get(url).json() "
   ]
  },
  {
   "cell_type": "code",
   "execution_count": null,
   "metadata": {},
   "outputs": [],
   "source": [
    "data2['features'][0]"
   ]
  },
  {
   "cell_type": "code",
   "execution_count": null,
   "metadata": {},
   "outputs": [],
   "source": [
    "element = []\n",
    "\n",
    "for item in data2['features']:\n",
    "    i = round(len(item['geometry']['rings'][0])/5)\n",
    "    element.append([item['attributes']['MAPLABEL1'],item['attributes']['NEIGHBOURHOOD_ASSOCIATION'],item['geometry']['rings'][0][i][1],item['geometry']['rings'][0][i][0]])\n",
    "    \n",
    "element[:5]"
   ]
  },
  {
   "cell_type": "code",
   "execution_count": null,
   "metadata": {},
   "outputs": [],
   "source": [
    "df2 = pd.DataFrame(element,columns = ['Neighbourhood', 'Neighbourhood Type','lat','long'])"
   ]
  },
  {
   "cell_type": "code",
   "execution_count": null,
   "metadata": {
    "scrolled": true
   },
   "outputs": [],
   "source": [
    "df2.head()"
   ]
  },
  {
   "cell_type": "code",
   "execution_count": null,
   "metadata": {},
   "outputs": [],
   "source": [
    "df_big = pd.concat([df,df2],axis = 0,sort = False).reset_index()\n",
    "df_big.to_csv(r'C:\\Users\\Abhik\\Downloads\\df_big.csv',index = False)"
   ]
  },
  {
   "cell_type": "code",
   "execution_count": null,
   "metadata": {
    "scrolled": true
   },
   "outputs": [],
   "source": [
    "df_big.head()\n"
   ]
  },
  {
   "cell_type": "code",
   "execution_count": null,
   "metadata": {},
   "outputs": [],
   "source": [
    "df_big.shape"
   ]
  },
  {
   "cell_type": "markdown",
   "metadata": {},
   "source": [
    "We have our desired Dataframe above."
   ]
  },
  {
   "cell_type": "code",
   "execution_count": null,
   "metadata": {},
   "outputs": [],
   "source": [
    "address = 'Waterloo, Ontario, Canada'\n",
    "\n",
    "geolocator = Nominatim(user_agent=\"waterloo_explorer\")\n",
    "location = geolocator.geocode(address)\n",
    "latitude = location.latitude\n",
    "longitude = location.longitude\n",
    "print('The geograpical coordinate of Waterloo City are {}, {}.'.format(latitude, longitude))"
   ]
  },
  {
   "cell_type": "code",
   "execution_count": null,
   "metadata": {
    "scrolled": true
   },
   "outputs": [],
   "source": [
    "KW_map = folium.Map(location=[latitude, longitude], zoom_start=12)\n",
    "\n",
    "KW_map"
   ]
  },
  {
   "cell_type": "code",
   "execution_count": null,
   "metadata": {},
   "outputs": [],
   "source": [
    "for lat,lng,neighbourhood in zip(df_big['lat'],df_big['long'],df_big['Neighbourhood Type']):\n",
    "    label = f'{neighbourhood}'\n",
    "    label = folium.Popup(label, parse_html=True)\n",
    "    folium.CircleMarker(\n",
    "        [lat,lng],\n",
    "        radius = 5,\n",
    "        popup=label,\n",
    "        color = 'green',\n",
    "        fill = True,\n",
    "        parse_html=False, \n",
    "    ).add_to(KW_map)\n",
    "    \n",
    "# waterloo_map.add_child(MeasureControl())\n",
    "FloatImage(url, bottom=5, left=85).add_to(KW_map)\n",
    "KW_map.add_child(MeasureControl())\n",
    "\n",
    "KW_map"
   ]
  },
  {
   "cell_type": "code",
   "execution_count": null,
   "metadata": {},
   "outputs": [],
   "source": [
    "#KW2_map = folium.Map(location=[latitude, longitude], zoom_start=12)\n",
    "\n",
    "# KW2_map\n",
    "# for item in data['features']:\n",
    "#     coords = item['geometry']['rings'][0]\n",
    "#     foo = pd.DataFrame(coords,columns=['long','lat'])\n",
    "#     for lat,lng in zip(foo['lat'],foo['long']):\n",
    "#     #     lat = foo['lat'][0]\n",
    "#     #     lng = foo['long'][0]\n",
    "#         folium.CircleMarker(\n",
    "#             [lat,lng],\n",
    "#             radius = 0.5,\n",
    "#             color = 'green',\n",
    "#             fill = True,\n",
    "#             parse_html=False, \n",
    "#         ).add_to(KW2_map)\n",
    "\n",
    "# KW2_map\n",
    "# foo['lat'][0]"
   ]
  },
  {
   "cell_type": "code",
   "execution_count": null,
   "metadata": {},
   "outputs": [],
   "source": [
    "lat = df_big['lat'][0]\n",
    "long = df_big['long'][0]\n",
    "radius = 500\n",
    "\n",
    "CLIENT_ID = 'JR0WCEE3K2VYBHOHIRHCAPOL3BXLGM2WHQNPCXXJ0GB20HPP' #Foursquare ID\n",
    "CLIENT_SECRET = '251PHKQSNFRZEAMTRWB3YKHYRHT50WRVAAW35AMS3CHXDFE2' # Foursquare Secret\n",
    "VERSION = '20200516' # Foursquare API version\n",
    "LIMIT = 500\n",
    "\n",
    "url = f'https://api.foursquare.com/v2/venues/explore?&client_id={CLIENT_ID}&client_secret={CLIENT_SECRET}&v={VERSION}&ll={lat},{long}&radius={radius}&limit={LIMIT}'\n",
    "json = requests.get(url).json()\n",
    "json"
   ]
  },
  {
   "cell_type": "code",
   "execution_count": null,
   "metadata": {},
   "outputs": [],
   "source": [
    "for item in json['response']['groups'][0]['items']:\n",
    "    print(item['venue']['location']['lat'])"
   ]
  },
  {
   "cell_type": "code",
   "execution_count": null,
   "metadata": {},
   "outputs": [],
   "source": [
    "names = df_big['Neighbourhood']\n",
    "latitudes = df_big['lat']\n",
    "longtitudes = df_big['long']\n",
    "radius = 500\n",
    "\n",
    "CLIENT_ID = 'JR0WCEE3K2VYBHOHIRHCAPOL3BXLGM2WHQNPCXXJ0GB20HPP' #Foursquare ID\n",
    "CLIENT_SECRET = '251PHKQSNFRZEAMTRWB3YKHYRHT50WRVAAW35AMS3CHXDFE2' # Foursquare Secret\n",
    "VERSION = '20200528' # Foursquare API version\n",
    "LIMIT = 500\n",
    "\n",
    "list = []\n",
    "bitch = []\n",
    "\n",
    "\n",
    "for name,lat,long in zip(names,latitudes,longtitudes):\n",
    "    url = f'https://api.foursquare.com/v2/venues/explore?&client_id={CLIENT_ID}&client_secret={CLIENT_SECRET}&v={VERSION}&ll={lat},{long}&radius={radius}&limit={LIMIT}'\n",
    "    json = requests.get(url).json()\n",
    "    venues = json['response']['groups'][0]['items']\n",
    "    try:\n",
    "        list.append([(\n",
    "                    name,\n",
    "                    lat,\n",
    "                    long,\n",
    "                    v['venue']['name'], \n",
    "                    v['venue']['location']['lat'],\n",
    "                    v['venue']['categories'][0]['name'],\n",
    "                    v['venue']['location']['lng']) for v in venues]\n",
    "                   )\n",
    "    except:\n",
    "        continue\n"
   ]
  },
  {
   "cell_type": "code",
   "execution_count": null,
   "metadata": {},
   "outputs": [],
   "source": [
    "bitch = []\n",
    "for name,lat,long in zip(names,latitudes,longtitudes):\n",
    "    url = f'https://api.foursquare.com/v2/venues/explore?&client_id={CLIENT_ID}&client_secret={CLIENT_SECRET}&v={VERSION}&ll={lat},{long}&radius={radius}&limit={LIMIT}'\n",
    "    json = requests.get(url).json()\n",
    "    try:\n",
    "        venues = json['response']['groups'][0]['items']\n",
    "        if len(venues) == 0:\n",
    "            bitch.append(name)\n",
    "    except:\n",
    "        continue\n",
    "bitch"
   ]
  },
  {
   "cell_type": "code",
   "execution_count": null,
   "metadata": {},
   "outputs": [],
   "source": [
    "list"
   ]
  },
  {
   "cell_type": "code",
   "execution_count": null,
   "metadata": {},
   "outputs": [],
   "source": [
    "# dataframe = pd.DataFrame([item for venue_list in list for item in venue_list],\n",
    "#                          columns = ['Postal Code','Borough','lat','long','venue','venue lat','venue long','venue type'])"
   ]
  },
  {
   "cell_type": "code",
   "execution_count": null,
   "metadata": {},
   "outputs": [],
   "source": [
    "venue_stuff = pd.DataFrame([item for venue_list in list for item in venue_list],columns = ['Neighbourhood','lat','long','venue','venue lat','venue type','venue long'])"
   ]
  },
  {
   "cell_type": "code",
   "execution_count": null,
   "metadata": {
    "scrolled": true
   },
   "outputs": [],
   "source": [
    "venue_stuff.head()"
   ]
  },
  {
   "cell_type": "code",
   "execution_count": null,
   "metadata": {},
   "outputs": [],
   "source": [
    "venue_stuff.to_csv(r'C:\\Users\\Abhik\\Downloads\\venue_waterloo_data.csv',index = False)"
   ]
  },
  {
   "cell_type": "markdown",
   "metadata": {},
   "source": [
    "data saved as csv as venue_waterloo_data.csv"
   ]
  },
  {
   "cell_type": "code",
   "execution_count": null,
   "metadata": {},
   "outputs": [],
   "source": [
    "x = pd.DataFrame(venue_stuff.groupby(['venue type','Neighbourhood']).count()['lat']).reset_index()"
   ]
  },
  {
   "cell_type": "code",
   "execution_count": null,
   "metadata": {},
   "outputs": [],
   "source": [
    "x['venue type'].value_counts()"
   ]
  },
  {
   "cell_type": "code",
   "execution_count": null,
   "metadata": {},
   "outputs": [],
   "source": [
    "# One Hot Encoding\n",
    "waterloo_onehot = pd.get_dummies(venue_stuff[['venue type']],prefix ='',prefix_sep = '')\n",
    "waterloo_onehot['Neighbourhood'] = venue_stuff['Neighbourhood']\n",
    "\n",
    "fixed_columns = [waterloo_onehot.columns[-1]] + waterloo_onehot.columns[:-1].to_list()\n",
    "\n",
    "waterloo_onehot = waterloo_onehot[fixed_columns]\n",
    "\n",
    "len(waterloo_onehot['Neighbourhood'].value_counts())"
   ]
  },
  {
   "cell_type": "code",
   "execution_count": null,
   "metadata": {},
   "outputs": [],
   "source": [
    "waterloo_grouped = waterloo_onehot.groupby('Neighbourhood').mean().reset_index()"
   ]
  },
  {
   "cell_type": "code",
   "execution_count": null,
   "metadata": {},
   "outputs": [],
   "source": [
    "waterloo_grouped.shape"
   ]
  },
  {
   "cell_type": "code",
   "execution_count": null,
   "metadata": {},
   "outputs": [],
   "source": [
    "waterloo_clustered = waterloo_grouped.drop('Neighbourhood',1)"
   ]
  },
  {
   "cell_type": "code",
   "execution_count": null,
   "metadata": {},
   "outputs": [],
   "source": []
  },
  {
   "cell_type": "code",
   "execution_count": null,
   "metadata": {},
   "outputs": [],
   "source": [
    "sns.heatmap(waterloo_clustered,cmap=\"YlGnBu\")"
   ]
  },
  {
   "cell_type": "code",
   "execution_count": null,
   "metadata": {},
   "outputs": [],
   "source": [
    "# run k-means clustering\n",
    "kclusters = 15\n",
    "kmeans = KMeans(n_clusters=kclusters, random_state=0).fit(waterloo_clustered)\n",
    "\n",
    "# check cluster labels generated for each row in the dataframe\n",
    "len(kmeans.labels_)"
   ]
  },
  {
   "cell_type": "code",
   "execution_count": null,
   "metadata": {},
   "outputs": [],
   "source": [
    "df_big.shape"
   ]
  },
  {
   "cell_type": "code",
   "execution_count": null,
   "metadata": {},
   "outputs": [],
   "source": [
    "for item in bitch:    \n",
    "    df_big = df_big[df_big['Neighbourhood'] != item]\n",
    "\n",
    "df_big.to_csv(r'C:\\Users\\Abhik\\Downloads\\df_big.csv',index = False)"
   ]
  },
  {
   "cell_type": "code",
   "execution_count": null,
   "metadata": {},
   "outputs": [],
   "source": [
    "df_big.head()"
   ]
  },
  {
   "cell_type": "code",
   "execution_count": null,
   "metadata": {},
   "outputs": [],
   "source": [
    "#df_big = df_big.drop('Cluster Labels',1)\n",
    "df_big.insert(0, 'Cluster Labels', kmeans.labels_)"
   ]
  },
  {
   "cell_type": "code",
   "execution_count": null,
   "metadata": {},
   "outputs": [],
   "source": [
    "df_big.head()"
   ]
  },
  {
   "cell_type": "code",
   "execution_count": null,
   "metadata": {},
   "outputs": [],
   "source": [
    "map_clusters = folium.Map(location=[latitude, longitude], zoom_start=11)\n",
    "\n",
    "# set color scheme for the clusters\n",
    "x = np.arange(kclusters)\n",
    "ys = [i + x + (i*x)**2 for i in range(kclusters)]\n",
    "colors_array = cm.rainbow(np.linspace(0, 1, len(ys)))\n",
    "rainbow = [colors.rgb2hex(i) for i in colors_array]\n",
    "\n",
    "# add markers to the map\n",
    "markers_colors = []\n",
    "for lat, lon, poi, cluster in zip(df_big['lat'], df_big['long'], df_big['Neighbourhood'], df_big['Cluster Labels']):\n",
    "    label = folium.Popup(str(poi) + ' Cluster ' + str(cluster), parse_html=True)\n",
    "    folium.CircleMarker(\n",
    "        [lat, lon],\n",
    "        radius=5,\n",
    "        popup=label,\n",
    "        color=rainbow[cluster-1],\n",
    "        fill=True,\n",
    "        fill_color=rainbow[cluster-1],\n",
    "        fill_opacity=0.7).add_to(map_clusters)\n",
    "       \n",
    "\n",
    "map_clusters"
   ]
  },
  {
   "cell_type": "code",
   "execution_count": null,
   "metadata": {
    "scrolled": true
   },
   "outputs": [],
   "source": [
    "inertia=[]\n",
    "N = 55\n",
    "K = []\n",
    "for k in range(2,N) :\n",
    "    K.append(k)\n",
    "    kmeans = KMeans(n_clusters=k, random_state=0).fit(waterloo_clustered)\n",
    "    inertia.append(kmeans.inertia_)\n",
    "plt.scatter(x = inertia,y =K)\n",
    "plt.xlabel('inertia values')\n",
    "plt.ylabel('k values')\n",
    "plt.title('elbow plot')"
   ]
  },
  {
   "cell_type": "code",
   "execution_count": null,
   "metadata": {},
   "outputs": [],
   "source": [
    "from IPython.display import display\n",
    "\n",
    "for i in range(kclusters):\n",
    "    print(f\"TABLE CLUSTER {i}\")\n",
    "    display(df_big[df_big['Cluster Labels'] == i])"
   ]
  },
  {
   "cell_type": "code",
   "execution_count": null,
   "metadata": {},
   "outputs": [],
   "source": [
    "for i in range(kclusters):\n",
    "    print(f'cluster {i}')\n",
    "    venue_cluster = df_big[df_big['Cluster Labels'] == i]\n",
    "    for item in venue_cluster['Neighbourhood']:        \n",
    "        display(venue_stuff[venue_stuff['Neighbourhood'] == item].drop('Neighbourhood',1))"
   ]
  },
  {
   "cell_type": "code",
   "execution_count": null,
   "metadata": {},
   "outputs": [],
   "source": [
    "venues = json['response']['groups'][0]['items']\n",
    "gay = []\n",
    "gay.append([(v['venue']['name']) for v in venues])"
   ]
  },
  {
   "cell_type": "code",
   "execution_count": null,
   "metadata": {},
   "outputs": [],
   "source": [
    "json"
   ]
  },
  {
   "cell_type": "code",
   "execution_count": null,
   "metadata": {},
   "outputs": [],
   "source": [
    "venue_id = []\n",
    "for name,lat,long in zip(names,latitudes,longtitudes):\n",
    "    url = f'https://api.foursquare.com/v2/venues/explore?&client_id={CLIENT_ID}&client_secret={CLIENT_SECRET}&v={VERSION}&ll={lat},{long}&radius={radius}&limit={LIMIT}'\n",
    "    json = requests.get(url).json()\n",
    "    try:\n",
    "        venues = json['response']['groups'][0]['items']\n",
    "        venue_id.append([(\n",
    "                    name,\n",
    "                    lat,\n",
    "                    long,\n",
    "                    v['venue']['name'], \n",
    "                    v['venue']['id']) for v in venues]\n",
    "                   )\n",
    "    except:\n",
    "        continue\n"
   ]
  },
  {
   "cell_type": "code",
   "execution_count": null,
   "metadata": {},
   "outputs": [],
   "source": [
    "venue_id"
   ]
  },
  {
   "cell_type": "code",
   "execution_count": null,
   "metadata": {},
   "outputs": [],
   "source": [
    "venue_id_df = pd.DataFrame([item for venue_list in venue_id for item in venue_list],columns = ['Neighbourhood','lat','long','venue name','id'])"
   ]
  },
  {
   "cell_type": "code",
   "execution_count": null,
   "metadata": {},
   "outputs": [],
   "source": [
    "display(venue_id_df.head())\n",
    "display(venue_id_df.shape)"
   ]
  },
  {
   "cell_type": "code",
   "execution_count": null,
   "metadata": {},
   "outputs": [],
   "source": [
    "json['response']['groups'][0]['items'][0]['venue']['id']"
   ]
  },
  {
   "cell_type": "code",
   "execution_count": null,
   "metadata": {},
   "outputs": [],
   "source": [
    "foo = []\n",
    "venues = json['response']['groups'][0]['items']\n",
    "foo.append([(v['venue']['id']) for v in venues])\n"
   ]
  },
  {
   "cell_type": "code",
   "execution_count": null,
   "metadata": {},
   "outputs": [],
   "source": [
    "venue_id = '5251b49a11d2c68b0e3b8a65'\n",
    "url = f'https://api.foursquare.com/v2/venues/{venue_id}?client_id={CLIENT_ID}&client_secret={CLIENT_SECRET}&v={VERSION}' \n",
    "result = requests.get(url).json()"
   ]
  },
  {
   "cell_type": "code",
   "execution_count": null,
   "metadata": {},
   "outputs": [],
   "source": [
    "result"
   ]
  },
  {
   "cell_type": "code",
   "execution_count": null,
   "metadata": {},
   "outputs": [],
   "source": [
    "ratings = []\n",
    "venue_namez = venue_id_df['venue name'] \n",
    "venue_id = venue_id_df['id']\n",
    "for name,id in zip(venue_namez,venue_id):\n",
    "    url = f'https://api.foursquare.com/v2/venues/{id}?client_id={CLIENT_ID}&client_secret={CLIENT_SECRET}&v={VERSION}'\n",
    "    result = requests.get(url).json()\n",
    "    try:    \n",
    "        ratings.append([result['response']['venue']['rating'],name])\n",
    "    except:\n",
    "        continue\n"
   ]
  },
  {
   "cell_type": "code",
   "execution_count": null,
   "metadata": {},
   "outputs": [],
   "source": [
    "pd.DataFrame(ratings)"
   ]
  },
  {
   "cell_type": "code",
   "execution_count": null,
   "metadata": {
    "scrolled": true
   },
   "outputs": [],
   "source": [
    "KW_map = folium.Map(location=[latitude, longitude],tiles=\"Stamen Toner\", zoom_start=12)\n",
    "\n",
    "\n",
    "for lat,lng,name in zip(venue_stuff['venue lat'],venue_stuff['venue long'],venue_stuff['venue']):\n",
    "    label = f'{name}'\n",
    "    label = folium.Popup(label, parse_html=True)\n",
    "    folium.CircleMarker(\n",
    "        [lat,lng],\n",
    "        radius = 2,\n",
    "        popup=label,\n",
    "        color = 'red',\n",
    "        fill = True,\n",
    "        parse_html=False, \n",
    "    ).add_to(KW_map)\n",
    "    \n",
    "\n",
    "\n",
    "KW_map"
   ]
  },
  {
   "cell_type": "code",
   "execution_count": null,
   "metadata": {},
   "outputs": [],
   "source": [
    "toronto_venue_data = pd.read_csv('venue_toronto_data.csv')"
   ]
  },
  {
   "cell_type": "code",
   "execution_count": null,
   "metadata": {
    "scrolled": true
   },
   "outputs": [],
   "source": []
  },
  {
   "cell_type": "code",
   "execution_count": null,
   "metadata": {},
   "outputs": [],
   "source": [
    "address = 'Toronto, Ontario, Canada'\n",
    "\n",
    "geolocator = Nominatim(user_agent=\"yyz_explorer\")\n",
    "location = geolocator.geocode(address)\n",
    "latitude = location.latitude\n",
    "longitude = location.longitude\n",
    "print('The geograpical coordinate of Toronto City are {}, {}.'.format(latitude, longitude))"
   ]
  },
  {
   "cell_type": "code",
   "execution_count": null,
   "metadata": {},
   "outputs": [],
   "source": [
    "map_YYZ = folium.Map(location=[latitude, longitude],tiles = 'Stamen Toner', zoom_start=11) #Displaying Toronto Map\n",
    "\n",
    "for lat,lng,name in zip(toronto_venue_data['venue lat'],toronto_venue_data['venue long'],toronto_venue_data['venue']):\n",
    "    label = f'{name}'\n",
    "    label = folium.Popup(label, parse_html=True)\n",
    "    folium.CircleMarker(\n",
    "        [lat,lng],\n",
    "        radius = 2,\n",
    "        popup=label,\n",
    "        color = 'red',\n",
    "        fill = True,\n",
    "        parse_html=False, \n",
    "    ).add_to(map_YYZ)\n",
    "    \n",
    "map_YYZ"
   ]
  },
  {
   "cell_type": "code",
   "execution_count": null,
   "metadata": {},
   "outputs": [],
   "source": [
    "toronto_clusters = pd.read_csv('toronto_clusters.csv')"
   ]
  },
  {
   "cell_type": "code",
   "execution_count": null,
   "metadata": {},
   "outputs": [],
   "source": [
    "toronto_clusters.head()"
   ]
  },
  {
   "cell_type": "code",
   "execution_count": null,
   "metadata": {},
   "outputs": [],
   "source": [
    "map_clusters = folium.Map(location=[latitude, longitude], zoom_start=11)\n",
    "\n",
    "kclusters = 30\n",
    "# set color scheme for the clusters\n",
    "x = np.arange(kclusters)\n",
    "ys = [i + x + (i*x)**2 for i in range(kclusters)]\n",
    "colors_array = cm.rainbow(np.linspace(0, 1, len(ys)))\n",
    "rainbow = [colors.rgb2hex(i) for i in colors_array]\n",
    "\n",
    "# add markers to the map\n",
    "markers_colors = []\n",
    "for lat, lon, poi, cluster in zip(toronto_clusters['lat'], toronto_clusters['long'], toronto_clusters['Borough'], toronto_clusters['Cluster Labels']):\n",
    "    label = folium.Popup(str(poi) + ' Cluster ' + str(cluster), parse_html=True)\n",
    "    folium.CircleMarker(\n",
    "        [lat, lon],\n",
    "        radius=5,\n",
    "        popup=label,\n",
    "        color=rainbow[cluster-1],\n",
    "        fill=True,\n",
    "        fill_color=rainbow[cluster-1],\n",
    "        fill_opacity=0.7).add_to(map_clusters)\n",
    "       \n",
    "\n",
    "map_clusters"
   ]
  },
  {
   "cell_type": "code",
   "execution_count": null,
   "metadata": {},
   "outputs": [],
   "source": [
    "cluster_i_neighbourhood = toronto_clusters[toronto_clusters['Cluster Labels'] == 0].reset_index()['Borough'].to_list()\n",
    "cluster_i_neighbourhood"
   ]
  },
  {
   "cell_type": "code",
   "execution_count": null,
   "metadata": {},
   "outputs": [],
   "source": [
    "cluster_i_neighbourhood[1]"
   ]
  },
  {
   "cell_type": "code",
   "execution_count": null,
   "metadata": {},
   "outputs": [],
   "source": [
    "len(toronto_clusters['Cluster Labels'])"
   ]
  },
  {
   "cell_type": "code",
   "execution_count": null,
   "metadata": {},
   "outputs": [],
   "source": [
    "len(toronto_venue_data[toronto_venue_data['Borough']==cluster_i_neighbourhood[1]])"
   ]
  },
  {
   "cell_type": "code",
   "execution_count": null,
   "metadata": {},
   "outputs": [],
   "source": [
    "toronto_clusters[toronto_clusters['Cluster Labels']==1]\n"
   ]
  },
  {
   "cell_type": "code",
   "execution_count": null,
   "metadata": {},
   "outputs": [],
   "source": [
    "for i in toronto_venue_data.iterrows():\n",
    "    print(i)"
   ]
  },
  {
   "cell_type": "code",
   "execution_count": null,
   "metadata": {},
   "outputs": [],
   "source": [
    "dataframe = []\n",
    "for j in range(len(toronto_clusters['Cluster Labels'])):\n",
    "    cluster_i_neighbourhood = toronto_clusters[toronto_clusters['Cluster Labels'] == j].reset_index()['Borough'].to_list()\n",
    "    for i in range(len(cluster_i_neighbourhood)):\n",
    "        cluster_list = np.full(shape=len(toronto_venue_data[toronto_venue_data['Borough']==cluster_i_neighbourhood[i]]),\n",
    "                           fill_value=i).tolist()\n",
    "        temp = toronto_venue_data[toronto_venue_data['Borough']==cluster_i_neighbourhood[i]]\n",
    "        temp.insert(0,'Cluster Labels',cluster_list)\n",
    "        dataframe.append(temp)"
   ]
  },
  {
   "cell_type": "code",
   "execution_count": null,
   "metadata": {},
   "outputs": [],
   "source": [
    "len(dataframe[0])"
   ]
  },
  {
   "cell_type": "code",
   "execution_count": null,
   "metadata": {},
   "outputs": [],
   "source": [
    "dataframe[5][0]"
   ]
  },
  {
   "cell_type": "code",
   "execution_count": null,
   "metadata": {},
   "outputs": [],
   "source": [
    "venue_cluster = pd.concat(dataframe[i] for i in range(len(toronto_clusters['Cluster Labels']))).reset_index(drop=True)\n",
    "venue_cluster.drop_duplicates().shape"
   ]
  },
  {
   "cell_type": "code",
   "execution_count": null,
   "metadata": {},
   "outputs": [],
   "source": [
    "toronto_venue_data.shape"
   ]
  },
  {
   "cell_type": "code",
   "execution_count": null,
   "metadata": {
    "scrolled": false
   },
   "outputs": [],
   "source": [
    "address = 'Toronto, Ontario, Canada'\n",
    "\n",
    "geolocator = Nominatim(user_agent=\"yyz_explorer\")\n",
    "location = geolocator.geocode(address)\n",
    "latitude = location.latitude\n",
    "longitude = location.longitude\n",
    "\n",
    "map_clusters = folium.Map(location=[latitude, longitude],tiles='Stamen Toner', zoom_start=11)\n",
    "\n",
    "kclusters = 30\n",
    "# set color scheme for the clusters\n",
    "x = np.arange(kclusters)\n",
    "ys = [i + x + (i*x)**2 for i in range(len(toronto_clusters['Cluster Labels']))]\n",
    "colors_array = cm.rainbow(np.linspace(0, 1, len(ys)))\n",
    "rainbow = [colors.rgb2hex(i) for i in colors_array]\n",
    "\n",
    "# add markers to the map\n",
    "markers_colors = []\n",
    "for lat, lon, poi, cluster in zip(venue_cluster['venue lat'], venue_cluster['venue long'], venue_cluster['Borough'], venue_cluster['Cluster Labels']):\n",
    "    label = folium.Popup(str(poi) + ' Cluster ' + str(cluster), parse_html=True)\n",
    "    folium.CircleMarker(\n",
    "        [lat, lon],\n",
    "        radius=1,\n",
    "        popup=label,\n",
    "        color=rainbow[cluster-1],\n",
    "        fill=True,\n",
    "        fill_color=rainbow[cluster-1],\n",
    "        fill_opacity=0.7).add_to(map_clusters)\n",
    "       \n",
    "\n",
    "map_clusters\n",
    "\n"
   ]
  },
  {
   "cell_type": "code",
   "execution_count": null,
   "metadata": {},
   "outputs": [],
   "source": [
    "cluster_6 = venue_cluster[venue_cluster['Cluster Labels']==0]\n"
   ]
  },
  {
   "cell_type": "code",
   "execution_count": null,
   "metadata": {},
   "outputs": [],
   "source": [
    "cluster_6.head()"
   ]
  },
  {
   "cell_type": "code",
   "execution_count": null,
   "metadata": {},
   "outputs": [],
   "source": [
    "display(pd.DataFrame(cluster_6['venue type'].value_counts()).reset_index().head(15))\n",
    "display(pd.DataFrame(cluster_6['Borough'].value_counts()).head(15))"
   ]
  },
  {
   "cell_type": "code",
   "execution_count": null,
   "metadata": {},
   "outputs": [],
   "source": [
    "dataframe = []\n",
    "for j in range(len(df_big['Cluster Labels'])):\n",
    "    cluster_i_neighbourhood = df_big[df_big['Cluster Labels'] == j].reset_index()['Neighbourhood'].to_list()\n",
    "    for i in range(len(cluster_i_neighbourhood)):\n",
    "        cluster_list = np.full(shape=len(venue_stuff[venue_stuff['Neighbourhood']==cluster_i_neighbourhood[i]]),\n",
    "                           fill_value=i).tolist()\n",
    "        temp = venue_stuff[venue_stuff['Neighbourhood']==cluster_i_neighbourhood[i]]\n",
    "        temp.insert(0,'Cluster Labels',cluster_list)\n",
    "        dataframe.append(temp)"
   ]
  },
  {
   "cell_type": "code",
   "execution_count": null,
   "metadata": {},
   "outputs": [],
   "source": [
    "waterloo_new_venue = pd.concat(dataframe).reset_index(drop = True)"
   ]
  },
  {
   "cell_type": "markdown",
   "metadata": {},
   "source": [
    "## yote"
   ]
  },
  {
   "cell_type": "code",
   "execution_count": null,
   "metadata": {},
   "outputs": [],
   "source": [
    "address = 'Waterloo, Ontario, Canada'\n",
    "\n",
    "geolocator = Nominatim(user_agent=\"waterloo_explorer\")\n",
    "location = geolocator.geocode(address)\n",
    "latitude = location.latitude\n",
    "longitude = location.longitude\n",
    "\n",
    "\n",
    "map_clusters = folium.Map(location=[latitude, longitude],tiles = 'Stamen Toner', zoom_start=13)\n",
    "\n",
    "# set color scheme for the clusters\n",
    "x = np.arange(kclusters)\n",
    "ys = [i + x + (i*x)**2 for i in range(kclusters)]\n",
    "colors_array = cm.rainbow(np.linspace(0, 1, len(ys)))\n",
    "rainbow = [colors.rgb2hex(i) for i in colors_array]\n",
    "\n",
    "# add markers to the map\n",
    "markers_colors = []\n",
    "for lat, lon, poi, cluster in zip(waterloo_new_venue['venue lat'], waterloo_new_venue['venue long'], waterloo_new_venue['Neighbourhood'], waterloo_new_venue['Cluster Labels']):\n",
    "    label = folium.Popup(str(poi) + ' Cluster ' + str(cluster), parse_html=True)\n",
    "    folium.CircleMarker(\n",
    "        [lat, lon],\n",
    "        radius=2,\n",
    "        popup=label,\n",
    "        color=rainbow[cluster-1],\n",
    "        fill=True,\n",
    "        fill_color=rainbow[cluster-1],\n",
    "        fill_opacity=0.7).add_to(map_clusters)\n",
    "       \n",
    "\n",
    "map_clusters"
   ]
  },
  {
   "cell_type": "code",
   "execution_count": null,
   "metadata": {},
   "outputs": [],
   "source": []
  },
  {
   "cell_type": "code",
   "execution_count": null,
   "metadata": {},
   "outputs": [],
   "source": []
  },
  {
   "cell_type": "code",
   "execution_count": null,
   "metadata": {},
   "outputs": [],
   "source": []
  }
 ],
 "metadata": {
  "kernelspec": {
   "display_name": "Python 3",
   "language": "python",
   "name": "python3"
  },
  "language_info": {
   "codemirror_mode": {
    "name": "ipython",
    "version": 3
   },
   "file_extension": ".py",
   "mimetype": "text/x-python",
   "name": "python",
   "nbconvert_exporter": "python",
   "pygments_lexer": "ipython3",
   "version": "3.8.3"
  }
 },
 "nbformat": 4,
 "nbformat_minor": 2
}
