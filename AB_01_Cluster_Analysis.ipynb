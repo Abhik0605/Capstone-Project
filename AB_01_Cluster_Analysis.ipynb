{
 "cells": [
  {
   "cell_type": "markdown",
   "metadata": {},
   "source": [
    "# Data Science Capstone Project\n",
    "\n",
    "\n",
    "## Purpose\n",
    "The purpose of this project is to explore the venues of Toronto and Waterloo and understand the differences between a big city and a smaller city.\n",
    "\n",
    "## Background\n",
    "Predicting where to open a business is a very hard problem. The number of variables that go into solving this kind of problem is a lot. It is almost impossible to predict whether a certain kind of business might succeed in one neighbourhood vs the other, one city vs the other, Evironment, culture, people, religion, time, location, asthetic appeal they all intermingle with each other to predict whether a certain place might be a good place for a business. Also what kind of business also makes a big difference. I am no expert and neither do I claim to be I just experiment and analyze and predict. So I just go into this problem blindly and see what comes out of the end. In this project I look into one variable which is the venue data on othere people's busineses and I cluster them and see which cluster is good for which kind of business.\n",
    "\n",
    "\n",
    "## Methodology\n",
    "I. Data acquisiton and cleaning\n",
    "\n",
    "II. Data Mining and Cleaning\n",
    "\n",
    "III. Exploratory Data Analysis\n",
    "\n",
    "IV. Predictive Modeling\n",
    "\n",
    "V. Conclusions\n",
    "\n"
   ]
  },
  {
   "cell_type": "markdown",
   "metadata": {},
   "source": [
    "# Setup\n",
    "\n",
    "## Library import\n",
    "We import all the required Python libraries"
   ]
  },
  {
   "cell_type": "code",
   "execution_count": 1,
   "metadata": {},
   "outputs": [
    {
     "name": "stdout",
     "output_type": "stream",
     "text": [
      "Libraries Imported\n"
     ]
    }
   ],
   "source": [
    "# Imported all the neccesary libraries \n",
    "from bs4 import BeautifulSoup # For Web Scraping\n",
    "\n",
    "import csv\n",
    "import pandas as pd #Data Analysis\n",
    "pd.set_option('display.max_columns', None) \n",
    "pd.set_option('display.max_rows', None)\n",
    "import numpy as np\n",
    "\n",
    "import geocoder #get location data\n",
    "from geopy.geocoders import Nominatim # convert an address into latitude and longitude values\n",
    "\n",
    "import requests\n",
    "import json #To handle json files\n",
    "from pandas.io.json import json_normalize\n",
    "\n",
    "from sklearn.cluster import KMeans # To run k-means algorithm\n",
    "\n",
    "import matplotlib.cm as cm\n",
    "import matplotlib.colors as colors # matplotlib stuff\n",
    "import matplotlib.pyplot as plt\n",
    "#%matplotlib inline # backend for rendering plots wit\n",
    "\n",
    "import folium # To visualize on map\n",
    "from folium.map import *\n",
    "from folium import plugins\n",
    "from folium.plugins import MeasureControl\n",
    "from folium.plugins import FloatImage\n",
    "\n",
    "import json\n",
    "\n",
    "print('Libraries Imported')"
   ]
  },
  {
   "cell_type": "markdown",
   "metadata": {},
   "source": [
    "# Data Mining and Cleaning"
   ]
  },
  {
   "cell_type": "markdown",
   "metadata": {},
   "source": [
    "We retrieve all the required data for the analysis. I use the arcgis API to get the required Waterloo-Kitchener Neighbourhood Data. I am aware that these Neighbourhoods might not be accurate in their location but these are just rough placeholder names to segment the area."
   ]
  },
  {
   "cell_type": "markdown",
   "metadata": {},
   "source": [
    "Getting Waterloo Data"
   ]
  },
  {
   "cell_type": "code",
   "execution_count": 2,
   "metadata": {},
   "outputs": [
    {
     "name": "stdout",
     "output_type": "stream",
     "text": [
      "The geograpical coordinate of Waterloo City are 43.466874, -80.524635.\n"
     ]
    },
    {
     "data": {
      "text/html": [
       "<div>\n",
       "<style scoped>\n",
       "    .dataframe tbody tr th:only-of-type {\n",
       "        vertical-align: middle;\n",
       "    }\n",
       "\n",
       "    .dataframe tbody tr th {\n",
       "        vertical-align: top;\n",
       "    }\n",
       "\n",
       "    .dataframe thead th {\n",
       "        text-align: right;\n",
       "    }\n",
       "</style>\n",
       "<table border=\"1\" class=\"dataframe\">\n",
       "  <thead>\n",
       "    <tr style=\"text-align: right;\">\n",
       "      <th></th>\n",
       "      <th>Neighbourhood</th>\n",
       "      <th>Neighbourhood Type</th>\n",
       "      <th>lat</th>\n",
       "      <th>long</th>\n",
       "    </tr>\n",
       "  </thead>\n",
       "  <tbody>\n",
       "    <tr>\n",
       "      <th>0</th>\n",
       "      <td>Uptown West</td>\n",
       "      <td>Neighbourhood Association</td>\n",
       "      <td>43.457114</td>\n",
       "      <td>-80.532676</td>\n",
       "    </tr>\n",
       "    <tr>\n",
       "      <th>1</th>\n",
       "      <td>Mary Allen</td>\n",
       "      <td>Neighbourhood Association</td>\n",
       "      <td>43.459286</td>\n",
       "      <td>-80.511531</td>\n",
       "    </tr>\n",
       "    <tr>\n",
       "      <th>2</th>\n",
       "      <td>Conservation Meadows</td>\n",
       "      <td>Neighbourhood</td>\n",
       "      <td>43.498458</td>\n",
       "      <td>-80.573241</td>\n",
       "    </tr>\n",
       "    <tr>\n",
       "      <th>3</th>\n",
       "      <td>Upper Beechwood II</td>\n",
       "      <td>Homes Association</td>\n",
       "      <td>43.458892</td>\n",
       "      <td>-80.571388</td>\n",
       "    </tr>\n",
       "    <tr>\n",
       "      <th>4</th>\n",
       "      <td>Beechwood North</td>\n",
       "      <td>Homes Association</td>\n",
       "      <td>43.465507</td>\n",
       "      <td>-80.563759</td>\n",
       "    </tr>\n",
       "  </tbody>\n",
       "</table>\n",
       "</div>"
      ],
      "text/plain": [
       "          Neighbourhood         Neighbourhood Type        lat       long\n",
       "0           Uptown West  Neighbourhood Association  43.457114 -80.532676\n",
       "1            Mary Allen  Neighbourhood Association  43.459286 -80.511531\n",
       "2  Conservation Meadows              Neighbourhood  43.498458 -80.573241\n",
       "3    Upper Beechwood II          Homes Association  43.458892 -80.571388\n",
       "4       Beechwood North          Homes Association  43.465507 -80.563759"
      ]
     },
     "execution_count": 2,
     "metadata": {},
     "output_type": "execute_result"
    }
   ],
   "source": [
    "url = 'https://services.arcgis.com/ZpeBVw5o1kjit7LT/arcgis/rest/services/NeighbourhoodAssociations/FeatureServer/0/query?where=1%3D1&outFields=*&outSR=4326&f=json'\n",
    "data = requests.get(url).json()  \n",
    "\n",
    "\n",
    "with open('data.geojson', 'w') as json_file:\n",
    "    json.dump(data, json_file)\n",
    "\n",
    "address = 'Waterloo, Ontario, Canada'\n",
    "\n",
    "geolocator = Nominatim(user_agent=\"waterloo_explorer\")\n",
    "location = geolocator.geocode(address)\n",
    "latitude = location.latitude\n",
    "longitude = location.longitude\n",
    "print('The geograpical coordinate of Waterloo City are {}, {}.'.format(latitude, longitude))\n",
    "\n",
    "element = []\n",
    "\n",
    "for item in data['features']:\n",
    "    i = round(len(item['geometry']['rings'][0])/2)+round(len(item['geometry']['rings'][0])/3)\n",
    "    element.append([item['attributes']['NAME'],item['attributes']['TYPE'],item['geometry']['rings'][0][i][1],item['geometry']['rings'][0][i][0]])\n",
    "\n",
    "\n",
    "df = pd.DataFrame(element,columns = ['Neighbourhood', 'Neighbourhood Type','lat','long'])\n",
    "\n",
    "df.head()"
   ]
  },
  {
   "cell_type": "markdown",
   "metadata": {},
   "source": [
    "Getting Kitchener Data"
   ]
  },
  {
   "cell_type": "code",
   "execution_count": 3,
   "metadata": {},
   "outputs": [
    {
     "data": {
      "text/html": [
       "<div>\n",
       "<style scoped>\n",
       "    .dataframe tbody tr th:only-of-type {\n",
       "        vertical-align: middle;\n",
       "    }\n",
       "\n",
       "    .dataframe tbody tr th {\n",
       "        vertical-align: top;\n",
       "    }\n",
       "\n",
       "    .dataframe thead th {\n",
       "        text-align: right;\n",
       "    }\n",
       "</style>\n",
       "<table border=\"1\" class=\"dataframe\">\n",
       "  <thead>\n",
       "    <tr style=\"text-align: right;\">\n",
       "      <th></th>\n",
       "      <th>Neighbourhood</th>\n",
       "      <th>Neighbourhood Type</th>\n",
       "      <th>lat</th>\n",
       "      <th>long</th>\n",
       "    </tr>\n",
       "  </thead>\n",
       "  <tbody>\n",
       "    <tr>\n",
       "      <th>0</th>\n",
       "      <td>Victoria Hills N. A. (27)</td>\n",
       "      <td>VICTORIA HILLS NEIGHBOURHOOD ASSOCIATION</td>\n",
       "      <td>43.439768</td>\n",
       "      <td>-80.507431</td>\n",
       "    </tr>\n",
       "    <tr>\n",
       "      <th>1</th>\n",
       "      <td>King East N. A. (19)</td>\n",
       "      <td>KING EAST NEIGHBOURHOOD ASSOCIATION</td>\n",
       "      <td>43.446339</td>\n",
       "      <td>-80.472788</td>\n",
       "    </tr>\n",
       "    <tr>\n",
       "      <th>2</th>\n",
       "      <td>Auditorium N. A. (2)</td>\n",
       "      <td>AUDITORIUM NEIGHBOURHOOD ASSOCIATION</td>\n",
       "      <td>43.445602</td>\n",
       "      <td>-80.470959</td>\n",
       "    </tr>\n",
       "    <tr>\n",
       "      <th>3</th>\n",
       "      <td>Westmount N. A. (29)</td>\n",
       "      <td>WESTMOUNT NEIGHBOURHOOD ASSOCIATION</td>\n",
       "      <td>43.446995</td>\n",
       "      <td>-80.522008</td>\n",
       "    </tr>\n",
       "    <tr>\n",
       "      <th>4</th>\n",
       "      <td>Bridgeport Community Assoc. (4)</td>\n",
       "      <td>BRIDGEPORT COMMUNITY ASSOCIATION</td>\n",
       "      <td>43.491443</td>\n",
       "      <td>-80.480919</td>\n",
       "    </tr>\n",
       "  </tbody>\n",
       "</table>\n",
       "</div>"
      ],
      "text/plain": [
       "                     Neighbourhood                        Neighbourhood Type  \\\n",
       "0        Victoria Hills N. A. (27)  VICTORIA HILLS NEIGHBOURHOOD ASSOCIATION   \n",
       "1             King East N. A. (19)       KING EAST NEIGHBOURHOOD ASSOCIATION   \n",
       "2             Auditorium N. A. (2)      AUDITORIUM NEIGHBOURHOOD ASSOCIATION   \n",
       "3             Westmount N. A. (29)       WESTMOUNT NEIGHBOURHOOD ASSOCIATION   \n",
       "4  Bridgeport Community Assoc. (4)          BRIDGEPORT COMMUNITY ASSOCIATION   \n",
       "\n",
       "         lat       long  \n",
       "0  43.439768 -80.507431  \n",
       "1  43.446339 -80.472788  \n",
       "2  43.445602 -80.470959  \n",
       "3  43.446995 -80.522008  \n",
       "4  43.491443 -80.480919  "
      ]
     },
     "execution_count": 3,
     "metadata": {},
     "output_type": "execute_result"
    }
   ],
   "source": [
    "url = 'https://services1.arcgis.com/qAo1OsXi67t7XgmS/arcgis/rest/services/Neighbourhood_Association/FeatureServer/0/query?where=1%3D1&outFields=*&outSR=4326&f=json'\n",
    "\n",
    "data2 = requests.get(url).json() \n",
    "\n",
    "data2['features'][0]\n",
    "\n",
    "element = []\n",
    "\n",
    "for item in data2['features']:\n",
    "    i = round(len(item['geometry']['rings'][0])/5)\n",
    "    element.append([item['attributes']['MAPLABEL1'],item['attributes']['NEIGHBOURHOOD_ASSOCIATION'],item['geometry']['rings'][0][i][1],item['geometry']['rings'][0][i][0]])\n",
    "    \n",
    "element[:5]\n",
    "\n",
    "df2 = pd.DataFrame(element,columns = ['Neighbourhood', 'Neighbourhood Type','lat','long'])\n",
    "\n",
    "df2.head()"
   ]
  },
  {
   "cell_type": "markdown",
   "metadata": {},
   "source": [
    "Combining them to get the bigger dataset"
   ]
  },
  {
   "cell_type": "code",
   "execution_count": 4,
   "metadata": {},
   "outputs": [
    {
     "data": {
      "text/html": [
       "<div>\n",
       "<style scoped>\n",
       "    .dataframe tbody tr th:only-of-type {\n",
       "        vertical-align: middle;\n",
       "    }\n",
       "\n",
       "    .dataframe tbody tr th {\n",
       "        vertical-align: top;\n",
       "    }\n",
       "\n",
       "    .dataframe thead th {\n",
       "        text-align: right;\n",
       "    }\n",
       "</style>\n",
       "<table border=\"1\" class=\"dataframe\">\n",
       "  <thead>\n",
       "    <tr style=\"text-align: right;\">\n",
       "      <th></th>\n",
       "      <th>index</th>\n",
       "      <th>Neighbourhood</th>\n",
       "      <th>Neighbourhood Type</th>\n",
       "      <th>lat</th>\n",
       "      <th>long</th>\n",
       "    </tr>\n",
       "  </thead>\n",
       "  <tbody>\n",
       "    <tr>\n",
       "      <th>0</th>\n",
       "      <td>0</td>\n",
       "      <td>Uptown West</td>\n",
       "      <td>Neighbourhood Association</td>\n",
       "      <td>43.457114</td>\n",
       "      <td>-80.532676</td>\n",
       "    </tr>\n",
       "    <tr>\n",
       "      <th>1</th>\n",
       "      <td>1</td>\n",
       "      <td>Mary Allen</td>\n",
       "      <td>Neighbourhood Association</td>\n",
       "      <td>43.459286</td>\n",
       "      <td>-80.511531</td>\n",
       "    </tr>\n",
       "    <tr>\n",
       "      <th>2</th>\n",
       "      <td>2</td>\n",
       "      <td>Conservation Meadows</td>\n",
       "      <td>Neighbourhood</td>\n",
       "      <td>43.498458</td>\n",
       "      <td>-80.573241</td>\n",
       "    </tr>\n",
       "    <tr>\n",
       "      <th>3</th>\n",
       "      <td>3</td>\n",
       "      <td>Upper Beechwood II</td>\n",
       "      <td>Homes Association</td>\n",
       "      <td>43.458892</td>\n",
       "      <td>-80.571388</td>\n",
       "    </tr>\n",
       "    <tr>\n",
       "      <th>4</th>\n",
       "      <td>4</td>\n",
       "      <td>Beechwood North</td>\n",
       "      <td>Homes Association</td>\n",
       "      <td>43.465507</td>\n",
       "      <td>-80.563759</td>\n",
       "    </tr>\n",
       "  </tbody>\n",
       "</table>\n",
       "</div>"
      ],
      "text/plain": [
       "   index         Neighbourhood         Neighbourhood Type        lat  \\\n",
       "0      0           Uptown West  Neighbourhood Association  43.457114   \n",
       "1      1            Mary Allen  Neighbourhood Association  43.459286   \n",
       "2      2  Conservation Meadows              Neighbourhood  43.498458   \n",
       "3      3    Upper Beechwood II          Homes Association  43.458892   \n",
       "4      4       Beechwood North          Homes Association  43.465507   \n",
       "\n",
       "        long  \n",
       "0 -80.532676  \n",
       "1 -80.511531  \n",
       "2 -80.573241  \n",
       "3 -80.571388  \n",
       "4 -80.563759  "
      ]
     },
     "execution_count": 4,
     "metadata": {},
     "output_type": "execute_result"
    }
   ],
   "source": [
    "df_big = pd.concat([df,df2],axis = 0,sort = False).reset_index()\n",
    "\n",
    "df_big.head()"
   ]
  },
  {
   "cell_type": "markdown",
   "metadata": {},
   "source": [
    "Visualizing this DataSet on a map"
   ]
  },
  {
   "cell_type": "code",
   "execution_count": 5,
   "metadata": {
    "scrolled": false
   },
   "outputs": [
    {
     "data": {
      "text/html": [
       "<div style=\"width:100%;\"><div style=\"position:relative;width:100%;height:0;padding-bottom:60%;\"><span style=\"color:#565656\">Make this Notebook Trusted to load map: File -> Trust Notebook</span><iframe src=\"about:blank\" style=\"position:absolute;width:100%;height:100%;left:0;top:0;border:none !important;\" data-html=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 onload=\"this.contentDocument.open();this.contentDocument.write(atob(this.getAttribute('data-html')));this.contentDocument.close();\" allowfullscreen webkitallowfullscreen mozallowfullscreen></iframe></div></div>"
      ],
      "text/plain": [
       "<folium.folium.Map at 0x15a76d6a610>"
      ]
     },
     "execution_count": 5,
     "metadata": {},
     "output_type": "execute_result"
    }
   ],
   "source": [
    "KW_map = folium.Map(location=[latitude, longitude], zoom_start=12)\n",
    "\n",
    "for lat,lng,neighbourhood in zip(df_big['lat'],df_big['long'],df_big['Neighbourhood Type']):\n",
    "    label = f'{neighbourhood}'\n",
    "    label = folium.Popup(label, parse_html=True)\n",
    "    folium.CircleMarker(\n",
    "        [lat,lng],\n",
    "        radius = 5,\n",
    "        popup=label,\n",
    "        color = 'green',\n",
    "        fill = True,\n",
    "        parse_html=False, \n",
    "    ).add_to(KW_map)\n",
    "    \n",
    "\n",
    "KW_map"
   ]
  },
  {
   "cell_type": "markdown",
   "metadata": {},
   "source": [
    "Getting venue data from this DataFrame"
   ]
  },
  {
   "cell_type": "code",
   "execution_count": 6,
   "metadata": {},
   "outputs": [],
   "source": [
    "names = df_big['Neighbourhood']\n",
    "latitudes = df_big['lat']\n",
    "longtitudes = df_big['long']\n",
    "radius = 500\n",
    "\n",
    "CLIENT_ID = 'JR0WCEE3K2VYBHOHIRHCAPOL3BXLGM2WHQNPCXXJ0GB20HPP' #Foursquare ID\n",
    "CLIENT_SECRET = '251PHKQSNFRZEAMTRWB3YKHYRHT50WRVAAW35AMS3CHXDFE2' # Foursquare Secret\n",
    "VERSION = '20200528' # Foursquare API version\n",
    "LIMIT = 500\n",
    "\n",
    "list = []\n",
    "\n",
    "\n",
    "for name,lat,long in zip(names,latitudes,longtitudes):\n",
    "    url = f'https://api.foursquare.com/v2/venues/explore?&client_id={CLIENT_ID}&client_secret={CLIENT_SECRET}&v={VERSION}&ll={lat},{long}&radius={radius}&limit={LIMIT}'\n",
    "    json = requests.get(url).json()\n",
    "    venues = json['response']['groups'][0]['items']\n",
    "    try:\n",
    "        list.append([(\n",
    "                    name,\n",
    "                    lat,\n",
    "                    long,\n",
    "                    v['venue']['name'], \n",
    "                    v['venue']['location']['lat'],\n",
    "                    v['venue']['categories'][0]['name'],\n",
    "                    v['venue']['location']['lng']) for v in venues]\n",
    "                   )\n",
    "    except:\n",
    "        continue\n",
    "missing_values = []\n",
    "for name,lat,long in zip(names,latitudes,longtitudes):\n",
    "    url = f'https://api.foursquare.com/v2/venues/explore?&client_id={CLIENT_ID}&client_secret={CLIENT_SECRET}&v={VERSION}&ll={lat},{long}&radius={radius}&limit={LIMIT}'\n",
    "    try:\n",
    "        json = requests.get(url).json()\n",
    "        venues = json['response']['groups'][0]['items']\n",
    "        if len(venues) == 0:\n",
    "            missing_values.append(name)\n",
    "    except:\n",
    "        continue"
   ]
  },
  {
   "cell_type": "code",
   "execution_count": 15,
   "metadata": {},
   "outputs": [
    {
     "data": {
      "text/plain": [
       "('Uptown West',\n",
       " 43.457113845,\n",
       " -80.532676196,\n",
       " \"Fo'cheezy\",\n",
       " 43.458229035211716,\n",
       " 'Food Truck',\n",
       " -80.53239871108174)"
      ]
     },
     "execution_count": 15,
     "metadata": {},
     "output_type": "execute_result"
    }
   ],
   "source": [
    "list[0][0] # Looking at what this list looks like"
   ]
  },
  {
   "cell_type": "code",
   "execution_count": 16,
   "metadata": {},
   "outputs": [
    {
     "data": {
      "text/plain": [
       "['Conservation Meadows', 'Huron Community Assoc. (18) ']"
      ]
     },
     "execution_count": 16,
     "metadata": {},
     "output_type": "execute_result"
    }
   ],
   "source": [
    "missing_values # The neighbourhoods which have"
   ]
  },
  {
   "cell_type": "code",
   "execution_count": 7,
   "metadata": {},
   "outputs": [],
   "source": [
    "venue_stuff = pd.DataFrame([item for venue_list in list for item in venue_list],columns = ['Neighbourhood','lat','long','venue','venue lat','venue type','venue long'])"
   ]
  },
  {
   "cell_type": "code",
   "execution_count": 8,
   "metadata": {},
   "outputs": [],
   "source": [
    "venue_stuff.to_csv(r'C:\\Users\\Abhik\\Downloads\\venue_waterloo_data.csv',index = False)"
   ]
  },
  {
   "cell_type": "code",
   "execution_count": 9,
   "metadata": {},
   "outputs": [
    {
     "data": {
      "text/html": [
       "<div>\n",
       "<style scoped>\n",
       "    .dataframe tbody tr th:only-of-type {\n",
       "        vertical-align: middle;\n",
       "    }\n",
       "\n",
       "    .dataframe tbody tr th {\n",
       "        vertical-align: top;\n",
       "    }\n",
       "\n",
       "    .dataframe thead th {\n",
       "        text-align: right;\n",
       "    }\n",
       "</style>\n",
       "<table border=\"1\" class=\"dataframe\">\n",
       "  <thead>\n",
       "    <tr style=\"text-align: right;\">\n",
       "      <th></th>\n",
       "      <th>Neighbourhood</th>\n",
       "      <th>lat</th>\n",
       "      <th>long</th>\n",
       "      <th>venue</th>\n",
       "      <th>venue lat</th>\n",
       "      <th>venue type</th>\n",
       "      <th>venue long</th>\n",
       "    </tr>\n",
       "  </thead>\n",
       "  <tbody>\n",
       "    <tr>\n",
       "      <th>0</th>\n",
       "      <td>Uptown West</td>\n",
       "      <td>43.457114</td>\n",
       "      <td>-80.532676</td>\n",
       "      <td>Our Lady of Lourdes Ball Field</td>\n",
       "      <td>43.457637</td>\n",
       "      <td>Baseball Field</td>\n",
       "      <td>-80.530302</td>\n",
       "    </tr>\n",
       "    <tr>\n",
       "      <th>1</th>\n",
       "      <td>Uptown West</td>\n",
       "      <td>43.457114</td>\n",
       "      <td>-80.532676</td>\n",
       "      <td>Fo'cheezy</td>\n",
       "      <td>43.458229</td>\n",
       "      <td>Food Truck</td>\n",
       "      <td>-80.532399</td>\n",
       "    </tr>\n",
       "    <tr>\n",
       "      <th>2</th>\n",
       "      <td>Uptown West</td>\n",
       "      <td>43.457114</td>\n",
       "      <td>-80.532676</td>\n",
       "      <td>Empire Public School</td>\n",
       "      <td>43.455051</td>\n",
       "      <td>Playground</td>\n",
       "      <td>-80.535269</td>\n",
       "    </tr>\n",
       "    <tr>\n",
       "      <th>3</th>\n",
       "      <td>Uptown West</td>\n",
       "      <td>43.457114</td>\n",
       "      <td>-80.532676</td>\n",
       "      <td>Mirage Las Vegas</td>\n",
       "      <td>43.454707</td>\n",
       "      <td>Hotel</td>\n",
       "      <td>-80.529663</td>\n",
       "    </tr>\n",
       "    <tr>\n",
       "      <th>4</th>\n",
       "      <td>Uptown West</td>\n",
       "      <td>43.457114</td>\n",
       "      <td>-80.532676</td>\n",
       "      <td>Optometrist</td>\n",
       "      <td>43.459087</td>\n",
       "      <td>Optical Shop</td>\n",
       "      <td>-80.537130</td>\n",
       "    </tr>\n",
       "  </tbody>\n",
       "</table>\n",
       "</div>"
      ],
      "text/plain": [
       "  Neighbourhood        lat       long                           venue  \\\n",
       "0   Uptown West  43.457114 -80.532676  Our Lady of Lourdes Ball Field   \n",
       "1   Uptown West  43.457114 -80.532676                       Fo'cheezy   \n",
       "2   Uptown West  43.457114 -80.532676            Empire Public School   \n",
       "3   Uptown West  43.457114 -80.532676                Mirage Las Vegas   \n",
       "4   Uptown West  43.457114 -80.532676                     Optometrist   \n",
       "\n",
       "   venue lat      venue type  venue long  \n",
       "0  43.457637  Baseball Field  -80.530302  \n",
       "1  43.458229      Food Truck  -80.532399  \n",
       "2  43.455051      Playground  -80.535269  \n",
       "3  43.454707           Hotel  -80.529663  \n",
       "4  43.459087    Optical Shop  -80.537130  "
      ]
     },
     "execution_count": 9,
     "metadata": {},
     "output_type": "execute_result"
    }
   ],
   "source": [
    "venue_stuff.head()"
   ]
  },
  {
   "cell_type": "code",
   "execution_count": null,
   "metadata": {},
   "outputs": [],
   "source": []
  }
 ],
 "metadata": {
  "kernelspec": {
   "display_name": "Python 3",
   "language": "python",
   "name": "python3"
  },
  "language_info": {
   "codemirror_mode": {
    "name": "ipython",
    "version": 3
   },
   "file_extension": ".py",
   "mimetype": "text/x-python",
   "name": "python",
   "nbconvert_exporter": "python",
   "pygments_lexer": "ipython3",
   "version": "3.8.3"
  }
 },
 "nbformat": 4,
 "nbformat_minor": 4
}
